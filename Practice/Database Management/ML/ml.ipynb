{
 "cells": [
  {
   "cell_type": "code",
   "execution_count": 2,
   "metadata": {},
   "outputs": [
    {
     "output_type": "stream",
     "name": "stdout",
     "text": "imports done\n"
    }
   ],
   "source": [
    "import sqlite3\n",
    "from sqlite3 import Error\n",
    "import random as r\n",
    "print(\"imports done\")"
   ]
  },
  {
   "cell_type": "code",
   "execution_count": 3,
   "metadata": {},
   "outputs": [],
   "source": [
    "def create_connection(db_file):\n",
    "    \"\"\" create a database connection to a SQLite database \"\"\"\n",
    "    conn = None\n",
    "    try:\n",
    "        conn = sqlite3.connect(db_file)\n",
    "        print(\"connection success\")\n",
    "        return conn\n",
    "    except Error as e:\n",
    "        print(e)\n",
    "        \n",
    "    return conn"
   ]
  },
  {
   "cell_type": "code",
   "execution_count": 4,
   "metadata": {},
   "outputs": [],
   "source": [
    "def create_time(conn, time):\n",
    "\n",
    "    sql = ''' INSERT INTO times(front,right,back,left)\n",
    "              VALUES(?,?,?,?) '''\n",
    "    cur = conn.cursor()\n",
    "    cur.execute(sql, time)\n",
    "    cur.execute('select * from times')\n",
    "    a=0\n",
    "    while a!=None:\n",
    "        a=cur.fetchone()\n",
    "        if a!=None:\n",
    "            print(a)\n",
    "        else:\n",
    "            break    \n",
    "       "
   ]
  },
  {
   "cell_type": "code",
   "execution_count": 16,
   "metadata": {},
   "outputs": [],
   "source": [
    "time=(r.random(),r.random(),r.random(),r.random())"
   ]
  },
  {
   "cell_type": "code",
   "execution_count": 17,
   "metadata": {},
   "outputs": [
    {
     "output_type": "stream",
     "name": "stdout",
     "text": "connection success\n(1, 2.5, 0.8807857437763863, 0.9059592259255157, 0.6012057640943775)\n(2, 0.7764678810294497, 0.3391662314317593, 0.24885768052225832, 0.18504819201623146)\n(3, 0.11846404446340164, 0.9734391040714228, 0.7944579829138929, 0.05390977436502109)\n(4, 0.09602943225098903, 0.1595647589659086, 0.3572894575844966, 0.38328990696986254)\n(5, 0.8625682822168986, 0.8232526991517836, 0.7212357636792384, 0.46990003234205135)\n(6, 0.6575878427912184, 0.6468896673904875, 0.2042777453031831, 0.4388653762821393)\n(7, 0.7934108723077208, 0.6862990276540132, 0.2026262646388649, 0.7615154421561562)\n(8, 0.43093691889821883, 0.08750747661805891, 0.13363322472357098, 0.003910343403341621)\nend\n"
    }
   ],
   "source": [
    "conn=create_connection(r\"../data1.db\")\n",
    "with conn:\n",
    "    create_time(conn,time)\n",
    "conn.close()\n",
    "print(\"end\")     "
   ]
  }
 ],
 "metadata": {
  "language_info": {
   "codemirror_mode": {
    "name": "ipython",
    "version": 3
   },
   "file_extension": ".py",
   "mimetype": "text/x-python",
   "name": "python",
   "nbconvert_exporter": "python",
   "pygments_lexer": "ipython3",
   "version": "3.8.3-final"
  },
  "orig_nbformat": 2,
  "kernelspec": {
   "name": "python3",
   "display_name": "Python 3"
  }
 },
 "nbformat": 4,
 "nbformat_minor": 2
}