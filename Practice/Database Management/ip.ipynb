{
 "cells": [
  {
   "cell_type": "code",
   "execution_count": 19,
   "metadata": {},
   "outputs": [
    {
     "output_type": "stream",
     "name": "stdout",
     "text": "imports done\n"
    }
   ],
   "source": [
    "import sqlite3\n",
    "from sqlite3 import Error\n",
    "\n",
    "print(\"imports done\")"
   ]
  },
  {
   "cell_type": "code",
   "execution_count": 20,
   "metadata": {},
   "outputs": [],
   "source": [
    "def create_connection(db_file):\n",
    "    \"\"\" create a database connection to a SQLite database \"\"\"\n",
    "    conn = None\n",
    "    try:\n",
    "        conn = sqlite3.connect(db_file)\n",
    "        print(\"connection success\")\n",
    "        return conn\n",
    "    except Error as e:\n",
    "        print(e)\n",
    "        \n",
    "    return conn"
   ]
  },
  {
   "cell_type": "code",
   "execution_count": 21,
   "metadata": {},
   "outputs": [
    {
     "output_type": "stream",
     "name": "stdout",
     "text": "connection success\n5.2867449697019016\n3.3644917929834675\n4.886361131448718\n"
    }
   ],
   "source": [
    "def get_time():\n",
    "    conn=create_connection(r\"../data1.db\")\n",
    "    cur = conn.cursor()\n",
    "    cur.execute('select * from times')\n",
    "\n",
    "    b=0\n",
    "    while b!=None:\n",
    "        b=cur.fetchone()\n",
    "        if b!=None:\n",
    "            c=(b[1]+b[2]+b[3]+b[0])\n",
    "            print(c)\n",
    "        else:\n",
    "            break \n",
    "    conn.close()\n",
    "            \n",
    "get_time()\n"
   ]
  }
 ],
 "metadata": {
  "language_info": {
   "codemirror_mode": {
    "name": "ipython",
    "version": 3
   },
   "file_extension": ".py",
   "mimetype": "text/x-python",
   "name": "python",
   "nbconvert_exporter": "python",
   "pygments_lexer": "ipython3",
   "version": "3.7.6-final"
  },
  "orig_nbformat": 2,
  "kernelspec": {
   "name": "python3",
   "display_name": "Python 3"
  }
 },
 "nbformat": 4,
 "nbformat_minor": 2
}