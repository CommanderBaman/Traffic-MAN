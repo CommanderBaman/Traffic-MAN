{
 "cells": [
  {
   "cell_type": "code",
   "execution_count": 1,
   "metadata": {},
   "outputs": [
    {
     "output_type": "stream",
     "name": "stdout",
     "text": "import done\n"
    }
   ],
   "source": [
    "import sqlite3\n",
    "from sqlite3 import Error\n",
    "\n",
    "print(\"import done\")"
   ]
  },
  {
   "cell_type": "code",
   "execution_count": 3,
   "metadata": {},
   "outputs": [
    {
     "output_type": "stream",
     "name": "stdout",
     "text": "function loaded\n"
    }
   ],
   "source": [
    "def create_connection(db_file):\n",
    "    \"\"\" create a database connection to a SQLite database \"\"\"\n",
    "    conn = None\n",
    "    try:\n",
    "        conn = sqlite3.connect(db_file)\n",
    "        return conn\n",
    "    except Error as e:\n",
    "        print(e)\n",
    "\n",
    "    return conn\n",
    "\n",
    "print( 'function loaded')"
   ]
  },
  {
   "cell_type": "code",
   "execution_count": 4,
   "metadata": {},
   "outputs": [
    {
     "output_type": "stream",
     "name": "stdout",
     "text": "function loaded\n"
    }
   ],
   "source": [
    "def create_table(conn, create_table_sql):\n",
    "    \"\"\" create a table from the create_table_sql statement\n",
    "    :param conn: Connection object\n",
    "    :param create_table_sql: a CREATE TABLE statement\n",
    "    :return:\n",
    "    \"\"\"\n",
    "    try:\n",
    "        c = conn.cursor()\n",
    "        c.execute(create_table_sql)\n",
    "        print(\"table created\")\n",
    "    except Error as e:\n",
    "        print(e)\n",
    "\n",
    "print( 'function loaded')"
   ]
  },
  {
   "cell_type": "code",
   "execution_count": 5,
   "metadata": {},
   "outputs": [
    {
     "output_type": "stream",
     "name": "stdout",
     "text": "function loaded\n"
    }
   ],
   "source": [
    "def create_project(conn, project):\n",
    "    \"\"\"\n",
    "    Create a new project into the projects table\n",
    "    :param conn:\n",
    "    :param project:\n",
    "    :return: project id\n",
    "    \"\"\"\n",
    "    sql = ''' INSERT INTO projects(name,begin_date,end_date)\n",
    "              VALUES(?,?,?) '''\n",
    "    cur = conn.cursor()\n",
    "    cur.execute(sql, project)\n",
    "    cur.execute('select * from projects')\n",
    "    a=0\n",
    "    while a!=None:\n",
    "        a=cur.fetchone()\n",
    "        print(a)\n",
    "\n",
    "print( 'function loaded')"
   ]
  },
  {
   "cell_type": "code",
   "execution_count": 12,
   "metadata": {},
   "outputs": [
    {
     "output_type": "stream",
     "name": "stdout",
     "text": "table created\n(1, 'check', '23', '25')\n(2, 'check2', '28', '25')\n(3, 'check3', '28', '25')\nNone\n"
    }
   ],
   "source": [
    "database = r\"data1.db\"\n",
    "\n",
    "sql_create_projects_table = \"\"\" CREATE TABLE IF NOT EXISTS projects (\n",
    "                                        id integer PRIMARY KEY UNIQUE,\n",
    "                                        name text NOT NULL UNIQUE,\n",
    "                                        begin_date text,\n",
    "                                        end_date text \n",
    "                                    ); \"\"\"\n",
    "\n",
    "# create a database connection\n",
    "conn = create_connection(database)\n",
    "project = ( 'check3', 28, 25)\n",
    "\n",
    "# create tables\n",
    "with conn:\n",
    "    # create projects table\n",
    "    create_table(conn, sql_create_projects_table)\n",
    "    create_project(conn,project)\n",
    "        \n",
    "                              "
   ]
  }
 ],
 "metadata": {
  "language_info": {
   "codemirror_mode": {
    "name": "ipython",
    "version": 3
   },
   "file_extension": ".py",
   "mimetype": "text/x-python",
   "name": "python",
   "nbconvert_exporter": "python",
   "pygments_lexer": "ipython3",
   "version": "3.8.3-final"
  },
  "orig_nbformat": 2,
  "kernelspec": {
   "name": "python38264bit8be7efcc92264bcf876bd38e4522aec3",
   "display_name": "Python 3.8.2 64-bit"
  }
 },
 "nbformat": 4,
 "nbformat_minor": 2
}